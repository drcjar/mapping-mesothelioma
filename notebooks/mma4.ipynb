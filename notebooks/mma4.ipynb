{
 "cells": [
  {
   "cell_type": "code",
   "execution_count": 1,
   "metadata": {},
   "outputs": [],
   "source": [
    "# linear regressions"
   ]
  },
  {
   "cell_type": "code",
   "execution_count": 2,
   "metadata": {},
   "outputs": [
    {
     "name": "stderr",
     "output_type": "stream",
     "text": [
      "/home/drcjar/anaconda3/envs/gds/lib/python3.7/site-packages/pysal/__init__.py:65: VisibleDeprecationWarning: PySAL's API will be changed on 2018-12-31. The last release made with this API is version 1.14.4. A preview of the next API version is provided in the `pysal` 2.0 prelease candidate. The API changes and a guide on how to change imports is provided at https://migrating.pysal.org\n",
      "  ), VisibleDeprecationWarning)\n"
     ]
    }
   ],
   "source": [
    "import pandas as pd\n",
    "import pickle\n",
    "import pysal as ps\n",
    "import geopandas as gpd\n",
    "from geopandas import GeoDataFrame\n",
    "import geopy\n",
    "import xlrd\n",
    "from ukpostcodeutils import validation\n",
    "from scipy.special import ndtri\n",
    "from scipy.stats import chi2\n",
    "from math import sqrt\n",
    "from geopy.distance import great_circle\n",
    "from shapely.geometry import MultiPoint\n",
    "from shapely.geometry import Point\n",
    "from tqdm import tqdm\n",
    "import statsmodels.api as sm\n",
    "import numpy as np\n",
    "import matplotlib.pyplot as plt\n",
    "import contextily as ctx\n",
    "from tqdm import tqdm\n",
    "\n",
    "%matplotlib inline"
   ]
  },
  {
   "cell_type": "code",
   "execution_count": 3,
   "metadata": {},
   "outputs": [],
   "source": [
    "infile = open('df','rb')\n",
    "df = pickle.load(infile)\n",
    "infile.close()\n",
    "\n",
    "infile = open('dcut','rb')\n",
    "dcut = pickle.load(infile)\n",
    "infile.close()\n",
    "\n",
    "infile = open('areacut','rb')\n",
    "areacut = pickle.load(infile)\n",
    "infile.close()\n",
    "\n",
    "infile = open('rural_nsyc_vs_syc','rb')\n",
    "rural_nsyc_vs_syc = pickle.load(infile)\n",
    "infile.close()\n",
    "\n",
    "infile = open('urban_nsyc_vs_syc','rb')\n",
    "urban_nsyc_vs_syc = pickle.load(infile)\n",
    "infile.close()\n",
    "\n",
    "infile = open('rural_coastal_syc_vs_rural_coastal_nsyc','rb')\n",
    "rural_coastal_syc_vs_rural_coastal_nsyc = pickle.load(infile)\n",
    "infile.close()\n",
    "\n",
    "infile = open('urban_coastal_syc_vs_rural_coastal_nsyc','rb')\n",
    "urban_coastal_syc_vs_rural_coastal_nsyc = pickle.load(infile)\n",
    "infile.close()\n",
    "\n",
    "\n",
    "l = dict(zip(['cr', 'ar', 'ds', 'smr'], [i for i in range(0,4)]))\n",
    "l2 = dict(zip(['cr2', 'ar2', 'ds2', 'smr2', 'da2'], [i for i in range(0,5)]))\n",
    "\n",
    "# dcut is dockyard cuts\n",
    "# areacut is area cuts\n",
    "# cr = crude rate, ar = age-adjusted rate, ds = directly standardised rate, smr= indirect smr\n",
    "# da = dockyard analysis"
   ]
  },
  {
   "cell_type": "code",
   "execution_count": 4,
   "metadata": {},
   "outputs": [],
   "source": [
    "def olsmodel(df):\n",
    " #   X = df[['disttodock', 'disttopowerstn']]\n",
    "    X = df['disttodock']\n",
    "    y = df['directly_standardised_rate_per_1000'] * 1000 # rate now per million\n",
    "    X = sm.add_constant(X)\n",
    "\n",
    "    model = sm.OLS(y, X).fit()\n",
    "    predictions = model.predict(X)\n",
    "\n",
    "    print(model.summary())"
   ]
  },
  {
   "cell_type": "code",
   "execution_count": 5,
   "metadata": {},
   "outputs": [
    {
     "name": "stdout",
     "output_type": "stream",
     "text": [
      "                                     OLS Regression Results                                    \n",
      "===============================================================================================\n",
      "Dep. Variable:     directly_standardised_rate_per_1000   R-squared:                       0.088\n",
      "Model:                                             OLS   Adj. R-squared:                  0.085\n",
      "Method:                                  Least Squares   F-statistic:                     33.20\n",
      "Date:                                 Mon, 19 Aug 2019   Prob (F-statistic):           1.84e-08\n",
      "Time:                                         00:25:13   Log-Likelihood:                -2231.3\n",
      "No. Observations:                                  347   AIC:                             4467.\n",
      "Df Residuals:                                      345   BIC:                             4474.\n",
      "Df Model:                                            1                                         \n",
      "Covariance Type:                             nonrobust                                         \n",
      "==============================================================================\n",
      "                 coef    std err          t      P>|t|      [0.025      0.975]\n",
      "------------------------------------------------------------------------------\n",
      "const        497.1109     13.250     37.517      0.000     471.049     523.173\n",
      "disttodock    -1.4068      0.244     -5.762      0.000      -1.887      -0.927\n",
      "==============================================================================\n",
      "Omnibus:                      139.524   Durbin-Watson:                   1.391\n",
      "Prob(Omnibus):                  0.000   Jarque-Bera (JB):              709.012\n",
      "Skew:                           1.633   Prob(JB):                    1.10e-154\n",
      "Kurtosis:                       9.195   Cond. No.                         89.0\n",
      "==============================================================================\n",
      "\n",
      "Warnings:\n",
      "[1] Standard Errors assume that the covariance matrix of the errors is correctly specified.\n"
     ]
    }
   ],
   "source": [
    "olsmodel(pd.merge(areacut['men-only'][l['ds']]['LAD16CD'], df.groupby('LAD16CD').disttodock.mean().reset_index(), on='LAD16CD'))"
   ]
  },
  {
   "cell_type": "code",
   "execution_count": 6,
   "metadata": {},
   "outputs": [
    {
     "name": "stdout",
     "output_type": "stream",
     "text": [
      "                                     OLS Regression Results                                    \n",
      "===============================================================================================\n",
      "Dep. Variable:     directly_standardised_rate_per_1000   R-squared:                       0.092\n",
      "Model:                                             OLS   Adj. R-squared:                  0.090\n",
      "Method:                                  Least Squares   F-statistic:                     35.05\n",
      "Date:                                 Mon, 19 Aug 2019   Prob (F-statistic):           7.75e-09\n",
      "Time:                                         00:25:14   Log-Likelihood:                -2016.2\n",
      "No. Observations:                                  347   AIC:                             4036.\n",
      "Df Residuals:                                      345   BIC:                             4044.\n",
      "Df Model:                                            1                                         \n",
      "Covariance Type:                             nonrobust                                         \n",
      "==============================================================================\n",
      "                 coef    std err          t      P>|t|      [0.025      0.975]\n",
      "------------------------------------------------------------------------------\n",
      "const        230.1743      7.130     32.280      0.000     216.150     244.199\n",
      "disttodock    -0.7779      0.131     -5.921      0.000      -1.036      -0.519\n",
      "==============================================================================\n",
      "Omnibus:                      178.050   Durbin-Watson:                   1.526\n",
      "Prob(Omnibus):                  0.000   Jarque-Bera (JB):             1669.160\n",
      "Skew:                           1.930   Prob(JB):                         0.00\n",
      "Kurtosis:                      13.027   Cond. No.                         89.0\n",
      "==============================================================================\n",
      "\n",
      "Warnings:\n",
      "[1] Standard Errors assume that the covariance matrix of the errors is correctly specified.\n"
     ]
    }
   ],
   "source": [
    "olsmodel(pd.merge(areacut['men-only pre-2009'][l['ds']]['LAD16CD'], df.groupby('LAD16CD').disttodock.mean().reset_index(), on='LAD16CD'))"
   ]
  },
  {
   "cell_type": "code",
   "execution_count": 7,
   "metadata": {},
   "outputs": [
    {
     "name": "stdout",
     "output_type": "stream",
     "text": [
      "                                     OLS Regression Results                                    \n",
      "===============================================================================================\n",
      "Dep. Variable:     directly_standardised_rate_per_1000   R-squared:                       0.061\n",
      "Model:                                             OLS   Adj. R-squared:                  0.058\n",
      "Method:                                  Least Squares   F-statistic:                     22.30\n",
      "Date:                                 Mon, 19 Aug 2019   Prob (F-statistic):           3.40e-06\n",
      "Time:                                         00:25:14   Log-Likelihood:                -2021.0\n",
      "No. Observations:                                  347   AIC:                             4046.\n",
      "Df Residuals:                                      345   BIC:                             4054.\n",
      "Df Model:                                            1                                         \n",
      "Covariance Type:                             nonrobust                                         \n",
      "==============================================================================\n",
      "                 coef    std err          t      P>|t|      [0.025      0.975]\n",
      "------------------------------------------------------------------------------\n",
      "const        266.9365      7.228     36.930      0.000     252.720     281.153\n",
      "disttodock    -0.6289      0.133     -4.722      0.000      -0.891      -0.367\n",
      "==============================================================================\n",
      "Omnibus:                       74.403   Durbin-Watson:                   1.409\n",
      "Prob(Omnibus):                  0.000   Jarque-Bera (JB):              148.548\n",
      "Skew:                           1.128   Prob(JB):                     5.54e-33\n",
      "Kurtosis:                       5.276   Cond. No.                         89.0\n",
      "==============================================================================\n",
      "\n",
      "Warnings:\n",
      "[1] Standard Errors assume that the covariance matrix of the errors is correctly specified.\n"
     ]
    }
   ],
   "source": [
    "olsmodel(pd.merge(areacut['men-only post-2009'][l['ds']]['LAD16CD'], df.groupby('LAD16CD').disttodock.mean().reset_index(), on='LAD16CD'))"
   ]
  },
  {
   "cell_type": "code",
   "execution_count": 8,
   "metadata": {},
   "outputs": [
    {
     "name": "stdout",
     "output_type": "stream",
     "text": [
      "                                     OLS Regression Results                                    \n",
      "===============================================================================================\n",
      "Dep. Variable:     directly_standardised_rate_per_1000   R-squared:                       0.011\n",
      "Model:                                             OLS   Adj. R-squared:                  0.011\n",
      "Method:                                  Least Squares   F-statistic:                     81.33\n",
      "Date:                                 Mon, 19 Aug 2019   Prob (F-statistic):           2.42e-19\n",
      "Time:                                         00:25:14   Log-Likelihood:                -48973.\n",
      "No. Observations:                                 7181   AIC:                         9.795e+04\n",
      "Df Residuals:                                     7179   BIC:                         9.796e+04\n",
      "Df Model:                                            1                                         \n",
      "Covariance Type:                             nonrobust                                         \n",
      "==============================================================================\n",
      "                 coef    std err          t      P>|t|      [0.025      0.975]\n",
      "------------------------------------------------------------------------------\n",
      "const        252.9522      4.278     59.130      0.000     244.566     261.338\n",
      "disttodock    -0.7267      0.081     -9.018      0.000      -0.885      -0.569\n",
      "==============================================================================\n",
      "Omnibus:                     2224.174   Durbin-Watson:                   1.774\n",
      "Prob(Omnibus):                  0.000   Jarque-Bera (JB):             7975.968\n",
      "Skew:                           1.532   Prob(JB):                         0.00\n",
      "Kurtosis:                       7.155   Cond. No.                         86.9\n",
      "==============================================================================\n",
      "\n",
      "Warnings:\n",
      "[1] Standard Errors assume that the covariance matrix of the errors is correctly specified.\n"
     ]
    }
   ],
   "source": [
    "olsmodel(pd.merge(areacut['men-only pre-2009'][l['ds']]['WD16CD'], df.groupby('WD16CD').disttodock.mean().reset_index(), on='WD16CD'))"
   ]
  },
  {
   "cell_type": "code",
   "execution_count": 9,
   "metadata": {},
   "outputs": [
    {
     "name": "stdout",
     "output_type": "stream",
     "text": [
      "                                     OLS Regression Results                                    \n",
      "===============================================================================================\n",
      "Dep. Variable:     directly_standardised_rate_per_1000   R-squared:                       0.006\n",
      "Model:                                             OLS   Adj. R-squared:                  0.006\n",
      "Method:                                  Least Squares   F-statistic:                     46.92\n",
      "Date:                                 Mon, 19 Aug 2019   Prob (F-statistic):           7.99e-12\n",
      "Time:                                         00:25:14   Log-Likelihood:                -49386.\n",
      "No. Observations:                                 7181   AIC:                         9.878e+04\n",
      "Df Residuals:                                     7179   BIC:                         9.879e+04\n",
      "Df Model:                                            1                                         \n",
      "Covariance Type:                             nonrobust                                         \n",
      "==============================================================================\n",
      "                 coef    std err          t      P>|t|      [0.025      0.975]\n",
      "------------------------------------------------------------------------------\n",
      "const        294.5833      4.531     65.010      0.000     285.701     303.466\n",
      "disttodock    -0.5847      0.085     -6.850      0.000      -0.752      -0.417\n",
      "==============================================================================\n",
      "Omnibus:                     1909.230   Durbin-Watson:                   1.866\n",
      "Prob(Omnibus):                  0.000   Jarque-Bera (JB):             5919.387\n",
      "Skew:                           1.359   Prob(JB):                         0.00\n",
      "Kurtosis:                       6.521   Cond. No.                         86.9\n",
      "==============================================================================\n",
      "\n",
      "Warnings:\n",
      "[1] Standard Errors assume that the covariance matrix of the errors is correctly specified.\n"
     ]
    }
   ],
   "source": [
    "olsmodel(pd.merge(areacut['men-only post-2009'][l['ds']]['WD16CD'], df.groupby('WD16CD').disttodock.mean().reset_index(), on='WD16CD'))"
   ]
  },
  {
   "cell_type": "code",
   "execution_count": 10,
   "metadata": {},
   "outputs": [
    {
     "name": "stdout",
     "output_type": "stream",
     "text": [
      "                                     OLS Regression Results                                    \n",
      "===============================================================================================\n",
      "Dep. Variable:     directly_standardised_rate_per_1000   R-squared:                       0.088\n",
      "Model:                                             OLS   Adj. R-squared:                  0.085\n",
      "Method:                                  Least Squares   F-statistic:                     33.20\n",
      "Date:                                 Mon, 19 Aug 2019   Prob (F-statistic):           1.84e-08\n",
      "Time:                                         00:25:14   Log-Likelihood:                -2231.3\n",
      "No. Observations:                                  347   AIC:                             4467.\n",
      "Df Residuals:                                      345   BIC:                             4474.\n",
      "Df Model:                                            1                                         \n",
      "Covariance Type:                             nonrobust                                         \n",
      "==============================================================================\n",
      "                 coef    std err          t      P>|t|      [0.025      0.975]\n",
      "------------------------------------------------------------------------------\n",
      "const        497.1109     13.250     37.517      0.000     471.049     523.173\n",
      "disttodock    -1.4068      0.244     -5.762      0.000      -1.887      -0.927\n",
      "==============================================================================\n",
      "Omnibus:                      139.524   Durbin-Watson:                   1.391\n",
      "Prob(Omnibus):                  0.000   Jarque-Bera (JB):              709.012\n",
      "Skew:                           1.633   Prob(JB):                    1.10e-154\n",
      "Kurtosis:                       9.195   Cond. No.                         89.0\n",
      "==============================================================================\n",
      "\n",
      "Warnings:\n",
      "[1] Standard Errors assume that the covariance matrix of the errors is correctly specified.\n"
     ]
    }
   ],
   "source": [
    "olsmodel(pd.merge(areacut['men-only'][l['ds']]['LAD16CD'], df.groupby('LAD16CD').disttodock.mean().reset_index(), on='LAD16CD'))"
   ]
  },
  {
   "cell_type": "code",
   "execution_count": 11,
   "metadata": {},
   "outputs": [
    {
     "name": "stdout",
     "output_type": "stream",
     "text": [
      "                                     OLS Regression Results                                    \n",
      "===============================================================================================\n",
      "Dep. Variable:     directly_standardised_rate_per_1000   R-squared:                       0.088\n",
      "Model:                                             OLS   Adj. R-squared:                  0.085\n",
      "Method:                                  Least Squares   F-statistic:                     33.20\n",
      "Date:                                 Mon, 19 Aug 2019   Prob (F-statistic):           1.84e-08\n",
      "Time:                                         00:25:14   Log-Likelihood:                -2231.3\n",
      "No. Observations:                                  347   AIC:                             4467.\n",
      "Df Residuals:                                      345   BIC:                             4474.\n",
      "Df Model:                                            1                                         \n",
      "Covariance Type:                             nonrobust                                         \n",
      "==============================================================================\n",
      "                 coef    std err          t      P>|t|      [0.025      0.975]\n",
      "------------------------------------------------------------------------------\n",
      "const        497.1109     13.250     37.517      0.000     471.049     523.173\n",
      "disttodock    -1.4068      0.244     -5.762      0.000      -1.887      -0.927\n",
      "==============================================================================\n",
      "Omnibus:                      139.524   Durbin-Watson:                   1.391\n",
      "Prob(Omnibus):                  0.000   Jarque-Bera (JB):              709.012\n",
      "Skew:                           1.633   Prob(JB):                    1.10e-154\n",
      "Kurtosis:                       9.195   Cond. No.                         89.0\n",
      "==============================================================================\n",
      "\n",
      "Warnings:\n",
      "[1] Standard Errors assume that the covariance matrix of the errors is correctly specified.\n"
     ]
    }
   ],
   "source": [
    "olsmodel(pd.merge(areacut['men-only'][l['ds']]['LAD16CD'], df.groupby('LAD16CD').disttodock.mean().reset_index(), on='LAD16CD'))"
   ]
  },
  {
   "cell_type": "code",
   "execution_count": 12,
   "metadata": {},
   "outputs": [
    {
     "name": "stdout",
     "output_type": "stream",
     "text": [
      "                                     OLS Regression Results                                    \n",
      "===============================================================================================\n",
      "Dep. Variable:     directly_standardised_rate_per_1000   R-squared:                       0.092\n",
      "Model:                                             OLS   Adj. R-squared:                  0.090\n",
      "Method:                                  Least Squares   F-statistic:                     35.05\n",
      "Date:                                 Mon, 19 Aug 2019   Prob (F-statistic):           7.75e-09\n",
      "Time:                                         00:25:14   Log-Likelihood:                -2016.2\n",
      "No. Observations:                                  347   AIC:                             4036.\n",
      "Df Residuals:                                      345   BIC:                             4044.\n",
      "Df Model:                                            1                                         \n",
      "Covariance Type:                             nonrobust                                         \n",
      "==============================================================================\n",
      "                 coef    std err          t      P>|t|      [0.025      0.975]\n",
      "------------------------------------------------------------------------------\n",
      "const        230.1743      7.130     32.280      0.000     216.150     244.199\n",
      "disttodock    -0.7779      0.131     -5.921      0.000      -1.036      -0.519\n",
      "==============================================================================\n",
      "Omnibus:                      178.050   Durbin-Watson:                   1.526\n",
      "Prob(Omnibus):                  0.000   Jarque-Bera (JB):             1669.160\n",
      "Skew:                           1.930   Prob(JB):                         0.00\n",
      "Kurtosis:                      13.027   Cond. No.                         89.0\n",
      "==============================================================================\n",
      "\n",
      "Warnings:\n",
      "[1] Standard Errors assume that the covariance matrix of the errors is correctly specified.\n"
     ]
    }
   ],
   "source": [
    "olsmodel(pd.merge(areacut['men-only pre-2009'][l['ds']]['LAD16CD'], df.groupby('LAD16CD').disttodock.mean().reset_index(), on='LAD16CD'))"
   ]
  },
  {
   "cell_type": "code",
   "execution_count": 13,
   "metadata": {},
   "outputs": [
    {
     "name": "stdout",
     "output_type": "stream",
     "text": [
      "                                     OLS Regression Results                                    \n",
      "===============================================================================================\n",
      "Dep. Variable:     directly_standardised_rate_per_1000   R-squared:                       0.061\n",
      "Model:                                             OLS   Adj. R-squared:                  0.058\n",
      "Method:                                  Least Squares   F-statistic:                     22.30\n",
      "Date:                                 Mon, 19 Aug 2019   Prob (F-statistic):           3.40e-06\n",
      "Time:                                         00:25:14   Log-Likelihood:                -2021.0\n",
      "No. Observations:                                  347   AIC:                             4046.\n",
      "Df Residuals:                                      345   BIC:                             4054.\n",
      "Df Model:                                            1                                         \n",
      "Covariance Type:                             nonrobust                                         \n",
      "==============================================================================\n",
      "                 coef    std err          t      P>|t|      [0.025      0.975]\n",
      "------------------------------------------------------------------------------\n",
      "const        266.9365      7.228     36.930      0.000     252.720     281.153\n",
      "disttodock    -0.6289      0.133     -4.722      0.000      -0.891      -0.367\n",
      "==============================================================================\n",
      "Omnibus:                       74.403   Durbin-Watson:                   1.409\n",
      "Prob(Omnibus):                  0.000   Jarque-Bera (JB):              148.548\n",
      "Skew:                           1.128   Prob(JB):                     5.54e-33\n",
      "Kurtosis:                       5.276   Cond. No.                         89.0\n",
      "==============================================================================\n",
      "\n",
      "Warnings:\n",
      "[1] Standard Errors assume that the covariance matrix of the errors is correctly specified.\n"
     ]
    }
   ],
   "source": [
    "olsmodel(pd.merge(areacut['men-only post-2009'][l['ds']]['LAD16CD'], df.groupby('LAD16CD').disttodock.mean().reset_index(), on='LAD16CD'))"
   ]
  },
  {
   "cell_type": "code",
   "execution_count": 14,
   "metadata": {},
   "outputs": [],
   "source": [
    "def olsmodel2(df):\n",
    " #   X = df[['disttodock', 'disttopowerstn']]\n",
    "    X = df[['disttodock', 'imd', 'oacs']]\n",
    "    y = df['directly_standardised_rate_per_1000']\n",
    "    X = sm.add_constant(X)\n",
    "\n",
    "    model = sm.OLS(y, X).fit()\n",
    "    predictions = model.predict(X)\n",
    "\n",
    "    print(model.summary())"
   ]
  },
  {
   "cell_type": "code",
   "execution_count": 15,
   "metadata": {},
   "outputs": [
    {
     "name": "stdout",
     "output_type": "stream",
     "text": [
      "                                     OLS Regression Results                                    \n",
      "===============================================================================================\n",
      "Dep. Variable:     directly_standardised_rate_per_1000   R-squared:                       0.025\n",
      "Model:                                             OLS   Adj. R-squared:                  0.024\n",
      "Method:                                  Least Squares   F-statistic:                     60.89\n",
      "Date:                                 Mon, 19 Aug 2019   Prob (F-statistic):           7.24e-39\n",
      "Time:                                         00:25:15   Log-Likelihood:                -2584.2\n",
      "No. Observations:                                 7181   AIC:                             5176.\n",
      "Df Residuals:                                     7177   BIC:                             5204.\n",
      "Df Model:                                            3                                         \n",
      "Covariance Type:                             nonrobust                                         \n",
      "==============================================================================\n",
      "                 coef    std err          t      P>|t|      [0.025      0.975]\n",
      "------------------------------------------------------------------------------\n",
      "const          0.5796      0.015     39.887      0.000       0.551       0.608\n",
      "disttodock    -0.0016      0.000    -12.485      0.000      -0.002      -0.001\n",
      "imd         1.492e-06   4.64e-07      3.219      0.001    5.84e-07     2.4e-06\n",
      "oacs           0.0097      0.002      4.801      0.000       0.006       0.014\n",
      "==============================================================================\n",
      "Omnibus:                     2107.625   Durbin-Watson:                   1.683\n",
      "Prob(Omnibus):                  0.000   Jarque-Bera (JB):             7175.205\n",
      "Skew:                           1.467   Prob(JB):                         0.00\n",
      "Kurtosis:                       6.920   Cond. No.                     6.80e+04\n",
      "==============================================================================\n",
      "\n",
      "Warnings:\n",
      "[1] Standard Errors assume that the covariance matrix of the errors is correctly specified.\n",
      "[2] The condition number is large, 6.8e+04. This might indicate that there are\n",
      "strong multicollinearity or other numerical problems.\n"
     ]
    }
   ],
   "source": [
    "olsmodel2(pd.merge(areacut['all-years'][l['ds']]['WD16CD'], df[['WD16CD', 'imd', 'oacs', 'urban', 'disttodock']].groupby('WD16CD').mean().reset_index(), on='WD16CD'))"
   ]
  },
  {
   "cell_type": "code",
   "execution_count": 16,
   "metadata": {},
   "outputs": [
    {
     "name": "stdout",
     "output_type": "stream",
     "text": [
      "                                     OLS Regression Results                                    \n",
      "===============================================================================================\n",
      "Dep. Variable:     directly_standardised_rate_per_1000   R-squared:                       0.259\n",
      "Model:                                             OLS   Adj. R-squared:                  0.252\n",
      "Method:                                  Least Squares   F-statistic:                     39.92\n",
      "Date:                                 Mon, 19 Aug 2019   Prob (F-statistic):           3.77e-22\n",
      "Time:                                         00:25:15   Log-Likelihood:                 151.72\n",
      "No. Observations:                                  347   AIC:                            -295.4\n",
      "Df Residuals:                                      343   BIC:                            -280.0\n",
      "Df Model:                                            3                                         \n",
      "Covariance Type:                             nonrobust                                         \n",
      "==============================================================================\n",
      "                 coef    std err          t      P>|t|      [0.025      0.975]\n",
      "------------------------------------------------------------------------------\n",
      "const          0.2200      0.047      4.720      0.000       0.128       0.312\n",
      "disttodock    -0.0019      0.000     -7.238      0.000      -0.002      -0.001\n",
      "imd          4.39e-06   1.33e-06      3.309      0.001    1.78e-06       7e-06\n",
      "oacs           0.0603      0.007      8.158      0.000       0.046       0.075\n",
      "==============================================================================\n",
      "Omnibus:                      146.479   Durbin-Watson:                   1.583\n",
      "Prob(Omnibus):                  0.000   Jarque-Bera (JB):              895.632\n",
      "Skew:                           1.655   Prob(JB):                    3.28e-195\n",
      "Kurtosis:                      10.141   Cond. No.                     1.03e+05\n",
      "==============================================================================\n",
      "\n",
      "Warnings:\n",
      "[1] Standard Errors assume that the covariance matrix of the errors is correctly specified.\n",
      "[2] The condition number is large, 1.03e+05. This might indicate that there are\n",
      "strong multicollinearity or other numerical problems.\n"
     ]
    }
   ],
   "source": [
    "olsmodel2(pd.merge(areacut['all-years'][l['ds']]['LAD16CD'], df[['LAD16CD', 'imd', 'oacs', 'urban', 'disttodock']].groupby('LAD16CD').mean().reset_index(), on='LAD16CD'))"
   ]
  },
  {
   "cell_type": "code",
   "execution_count": 17,
   "metadata": {},
   "outputs": [],
   "source": [
    "def olsmodel3(df):\n",
    " #   X = df[['disttodock', 'disttopowerstn']]\n",
    "    X = df['imd']\n",
    "    y = df['directly_standardised_rate_per_1000']\n",
    "    X = sm.add_constant(X)\n",
    "\n",
    "    model = sm.OLS(y, X).fit()\n",
    "    predictions = model.predict(X)\n",
    "\n",
    "    print(model.summary())"
   ]
  },
  {
   "cell_type": "code",
   "execution_count": 18,
   "metadata": {},
   "outputs": [
    {
     "name": "stdout",
     "output_type": "stream",
     "text": [
      "                                     OLS Regression Results                                    \n",
      "===============================================================================================\n",
      "Dep. Variable:     directly_standardised_rate_per_1000   R-squared:                       0.002\n",
      "Model:                                             OLS   Adj. R-squared:                 -0.001\n",
      "Method:                                  Least Squares   F-statistic:                    0.6327\n",
      "Date:                                 Mon, 19 Aug 2019   Prob (F-statistic):              0.427\n",
      "Time:                                         00:25:15   Log-Likelihood:                 100.08\n",
      "No. Observations:                                  347   AIC:                            -196.2\n",
      "Df Residuals:                                      345   BIC:                            -188.5\n",
      "Df Model:                                            1                                         \n",
      "Covariance Type:                             nonrobust                                         \n",
      "==============================================================================\n",
      "                 coef    std err          t      P>|t|      [0.025      0.975]\n",
      "------------------------------------------------------------------------------\n",
      "const          0.4998      0.027     18.188      0.000       0.446       0.554\n",
      "imd         1.183e-06   1.49e-06      0.795      0.427   -1.74e-06    4.11e-06\n",
      "==============================================================================\n",
      "Omnibus:                      165.892   Durbin-Watson:                   1.349\n",
      "Prob(Omnibus):                  0.000   Jarque-Bera (JB):             1010.446\n",
      "Skew:                           1.932   Prob(JB):                    3.84e-220\n",
      "Kurtosis:                      10.413   Cond. No.                     5.20e+04\n",
      "==============================================================================\n",
      "\n",
      "Warnings:\n",
      "[1] Standard Errors assume that the covariance matrix of the errors is correctly specified.\n",
      "[2] The condition number is large, 5.2e+04. This might indicate that there are\n",
      "strong multicollinearity or other numerical problems.\n"
     ]
    }
   ],
   "source": [
    "olsmodel3(pd.merge(areacut['all-years'][l['ds']]['LAD16CD'], df[['LAD16CD', 'imd']].groupby('LAD16CD').mean().reset_index(), on='LAD16CD'))"
   ]
  },
  {
   "cell_type": "code",
   "execution_count": 19,
   "metadata": {},
   "outputs": [
    {
     "data": {
      "text/html": [
       "<div>\n",
       "<style scoped>\n",
       "    .dataframe tbody tr th:only-of-type {\n",
       "        vertical-align: middle;\n",
       "    }\n",
       "\n",
       "    .dataframe tbody tr th {\n",
       "        vertical-align: top;\n",
       "    }\n",
       "\n",
       "    .dataframe thead th {\n",
       "        text-align: right;\n",
       "    }\n",
       "</style>\n",
       "<table border=\"1\" class=\"dataframe\">\n",
       "  <thead>\n",
       "    <tr style=\"text-align: right;\">\n",
       "      <th></th>\n",
       "      <th>dock</th>\n",
       "      <th>population</th>\n",
       "      <th>percent_pop</th>\n",
       "      <th>observed</th>\n",
       "      <th>percent_deaths</th>\n",
       "      <th>crude_rate_per_1000</th>\n",
       "      <th>directly_standardised_rate_per_1000</th>\n",
       "      <th>dsr_lower</th>\n",
       "      <th>dsr_upper</th>\n",
       "      <th>expected</th>\n",
       "      <th>smr</th>\n",
       "      <th>lower_ci</th>\n",
       "      <th>upper_ci</th>\n",
       "    </tr>\n",
       "  </thead>\n",
       "  <tbody>\n",
       "    <tr>\n",
       "      <th>0</th>\n",
       "      <td>0</td>\n",
       "      <td>46808832</td>\n",
       "      <td>84.744487</td>\n",
       "      <td>23566</td>\n",
       "      <td>81.410854</td>\n",
       "      <td>0.503452</td>\n",
       "      <td>0.503138</td>\n",
       "      <td>0.496727</td>\n",
       "      <td>0.509610</td>\n",
       "      <td>24546.212123</td>\n",
       "      <td>96.006666</td>\n",
       "      <td>94.784766</td>\n",
       "      <td>97.240384</td>\n",
       "    </tr>\n",
       "    <tr>\n",
       "      <th>1</th>\n",
       "      <td>1</td>\n",
       "      <td>8426421</td>\n",
       "      <td>15.255513</td>\n",
       "      <td>5381</td>\n",
       "      <td>18.589146</td>\n",
       "      <td>0.638587</td>\n",
       "      <td>0.640765</td>\n",
       "      <td>0.623890</td>\n",
       "      <td>0.657984</td>\n",
       "      <td>4400.787877</td>\n",
       "      <td>122.273560</td>\n",
       "      <td>119.028130</td>\n",
       "      <td>125.585060</td>\n",
       "    </tr>\n",
       "  </tbody>\n",
       "</table>\n",
       "</div>"
      ],
      "text/plain": [
       "   dock  population  percent_pop  observed  percent_deaths  \\\n",
       "0     0    46808832    84.744487     23566       81.410854   \n",
       "1     1     8426421    15.255513      5381       18.589146   \n",
       "\n",
       "   crude_rate_per_1000  directly_standardised_rate_per_1000  dsr_lower  \\\n",
       "0             0.503452                             0.503138   0.496727   \n",
       "1             0.638587                             0.640765   0.623890   \n",
       "\n",
       "   dsr_upper      expected         smr    lower_ci    upper_ci  \n",
       "0   0.509610  24546.212123   96.006666   94.784766   97.240384  \n",
       "1   0.657984   4400.787877  122.273560  119.028130  125.585060  "
      ]
     },
     "execution_count": 19,
     "metadata": {},
     "output_type": "execute_result"
    }
   ],
   "source": [
    "dcut['all-years'][l2['da2']]['LAD16CD']"
   ]
  },
  {
   "cell_type": "code",
   "execution_count": 20,
   "metadata": {},
   "outputs": [
    {
     "data": {
      "text/html": [
       "<div>\n",
       "<style scoped>\n",
       "    .dataframe tbody tr th:only-of-type {\n",
       "        vertical-align: middle;\n",
       "    }\n",
       "\n",
       "    .dataframe tbody tr th {\n",
       "        vertical-align: top;\n",
       "    }\n",
       "\n",
       "    .dataframe thead th {\n",
       "        text-align: right;\n",
       "    }\n",
       "</style>\n",
       "<table border=\"1\" class=\"dataframe\">\n",
       "  <thead>\n",
       "    <tr style=\"text-align: right;\">\n",
       "      <th></th>\n",
       "      <th>dock</th>\n",
       "      <th>population</th>\n",
       "      <th>percent_pop</th>\n",
       "      <th>observed</th>\n",
       "      <th>percent_deaths</th>\n",
       "      <th>crude_rate_per_1000</th>\n",
       "      <th>directly_standardised_rate_per_1000</th>\n",
       "      <th>dsr_lower</th>\n",
       "      <th>dsr_upper</th>\n",
       "      <th>expected</th>\n",
       "      <th>smr</th>\n",
       "      <th>lower_ci</th>\n",
       "      <th>upper_ci</th>\n",
       "    </tr>\n",
       "  </thead>\n",
       "  <tbody>\n",
       "    <tr>\n",
       "      <th>0</th>\n",
       "      <td>0</td>\n",
       "      <td>46808832</td>\n",
       "      <td>84.744487</td>\n",
       "      <td>10449</td>\n",
       "      <td>79.958678</td>\n",
       "      <td>0.223227</td>\n",
       "      <td>0.223089</td>\n",
       "      <td>0.218828</td>\n",
       "      <td>0.227413</td>\n",
       "      <td>11081.121149</td>\n",
       "      <td>94.295513</td>\n",
       "      <td>92.496060</td>\n",
       "      <td>96.121171</td>\n",
       "    </tr>\n",
       "    <tr>\n",
       "      <th>1</th>\n",
       "      <td>1</td>\n",
       "      <td>8426421</td>\n",
       "      <td>15.255513</td>\n",
       "      <td>2619</td>\n",
       "      <td>20.041322</td>\n",
       "      <td>0.310808</td>\n",
       "      <td>0.311791</td>\n",
       "      <td>0.300052</td>\n",
       "      <td>0.323875</td>\n",
       "      <td>1986.878851</td>\n",
       "      <td>131.814781</td>\n",
       "      <td>126.814311</td>\n",
       "      <td>136.961881</td>\n",
       "    </tr>\n",
       "  </tbody>\n",
       "</table>\n",
       "</div>"
      ],
      "text/plain": [
       "   dock  population  percent_pop  observed  percent_deaths  \\\n",
       "0     0    46808832    84.744487     10449       79.958678   \n",
       "1     1     8426421    15.255513      2619       20.041322   \n",
       "\n",
       "   crude_rate_per_1000  directly_standardised_rate_per_1000  dsr_lower  \\\n",
       "0             0.223227                             0.223089   0.218828   \n",
       "1             0.310808                             0.311791   0.300052   \n",
       "\n",
       "   dsr_upper      expected         smr    lower_ci    upper_ci  \n",
       "0   0.227413  11081.121149   94.295513   92.496060   96.121171  \n",
       "1   0.323875   1986.878851  131.814781  126.814311  136.961881  "
      ]
     },
     "execution_count": 20,
     "metadata": {},
     "output_type": "execute_result"
    }
   ],
   "source": [
    "dcut['pre-2009'][l2['da2']]['LAD16CD']"
   ]
  },
  {
   "cell_type": "code",
   "execution_count": 21,
   "metadata": {},
   "outputs": [
    {
     "data": {
      "text/html": [
       "<div>\n",
       "<style scoped>\n",
       "    .dataframe tbody tr th:only-of-type {\n",
       "        vertical-align: middle;\n",
       "    }\n",
       "\n",
       "    .dataframe tbody tr th {\n",
       "        vertical-align: top;\n",
       "    }\n",
       "\n",
       "    .dataframe thead th {\n",
       "        text-align: right;\n",
       "    }\n",
       "</style>\n",
       "<table border=\"1\" class=\"dataframe\">\n",
       "  <thead>\n",
       "    <tr style=\"text-align: right;\">\n",
       "      <th></th>\n",
       "      <th>dock</th>\n",
       "      <th>population</th>\n",
       "      <th>percent_pop</th>\n",
       "      <th>observed</th>\n",
       "      <th>percent_deaths</th>\n",
       "      <th>crude_rate_per_1000</th>\n",
       "      <th>directly_standardised_rate_per_1000</th>\n",
       "      <th>dsr_lower</th>\n",
       "      <th>dsr_upper</th>\n",
       "      <th>expected</th>\n",
       "      <th>smr</th>\n",
       "      <th>lower_ci</th>\n",
       "      <th>upper_ci</th>\n",
       "    </tr>\n",
       "  </thead>\n",
       "  <tbody>\n",
       "    <tr>\n",
       "      <th>0</th>\n",
       "      <td>0</td>\n",
       "      <td>46808832</td>\n",
       "      <td>84.744487</td>\n",
       "      <td>13117</td>\n",
       "      <td>82.605958</td>\n",
       "      <td>0.280225</td>\n",
       "      <td>0.280049</td>\n",
       "      <td>0.275271</td>\n",
       "      <td>0.284888</td>\n",
       "      <td>13465.090974</td>\n",
       "      <td>97.414864</td>\n",
       "      <td>95.754829</td>\n",
       "      <td>99.096456</td>\n",
       "    </tr>\n",
       "    <tr>\n",
       "      <th>1</th>\n",
       "      <td>1</td>\n",
       "      <td>8426421</td>\n",
       "      <td>15.255513</td>\n",
       "      <td>2762</td>\n",
       "      <td>17.394042</td>\n",
       "      <td>0.327779</td>\n",
       "      <td>0.328974</td>\n",
       "      <td>0.316914</td>\n",
       "      <td>0.341378</td>\n",
       "      <td>2413.909026</td>\n",
       "      <td>114.420219</td>\n",
       "      <td>110.192417</td>\n",
       "      <td>118.768691</td>\n",
       "    </tr>\n",
       "  </tbody>\n",
       "</table>\n",
       "</div>"
      ],
      "text/plain": [
       "   dock  population  percent_pop  observed  percent_deaths  \\\n",
       "0     0    46808832    84.744487     13117       82.605958   \n",
       "1     1     8426421    15.255513      2762       17.394042   \n",
       "\n",
       "   crude_rate_per_1000  directly_standardised_rate_per_1000  dsr_lower  \\\n",
       "0             0.280225                             0.280049   0.275271   \n",
       "1             0.327779                             0.328974   0.316914   \n",
       "\n",
       "   dsr_upper      expected         smr    lower_ci    upper_ci  \n",
       "0   0.284888  13465.090974   97.414864   95.754829   99.096456  \n",
       "1   0.341378   2413.909026  114.420219  110.192417  118.768691  "
      ]
     },
     "execution_count": 21,
     "metadata": {},
     "output_type": "execute_result"
    }
   ],
   "source": [
    "dcut['post-2009'][l2['da2']]['LAD16CD']"
   ]
  },
  {
   "cell_type": "code",
   "execution_count": 22,
   "metadata": {},
   "outputs": [
    {
     "data": {
      "text/plain": [
       "0.23254946917097027"
      ]
     },
     "execution_count": 22,
     "metadata": {},
     "output_type": "execute_result"
    }
   ],
   "source": [
    "areacut['pre-2009'][l['ds']]['LAD16CD']['directly_standardised_rate_per_1000'].mean()"
   ]
  },
  {
   "cell_type": "code",
   "execution_count": 23,
   "metadata": {},
   "outputs": [
    {
     "data": {
      "text/plain": [
       "0.28620144153368154"
      ]
     },
     "execution_count": 23,
     "metadata": {},
     "output_type": "execute_result"
    }
   ],
   "source": [
    "areacut['post-2009'][l['ds']]['LAD16CD']['directly_standardised_rate_per_1000'].mean()"
   ]
  }
 ],
 "metadata": {
  "kernelspec": {
   "display_name": "Python 3",
   "language": "python",
   "name": "python3"
  },
  "language_info": {
   "codemirror_mode": {
    "name": "ipython",
    "version": 3
   },
   "file_extension": ".py",
   "mimetype": "text/x-python",
   "name": "python",
   "nbconvert_exporter": "python",
   "pygments_lexer": "ipython3",
   "version": "3.7.0"
  }
 },
 "nbformat": 4,
 "nbformat_minor": 2
}
